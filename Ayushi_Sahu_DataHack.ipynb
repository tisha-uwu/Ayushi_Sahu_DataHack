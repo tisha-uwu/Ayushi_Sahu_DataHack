{
  "nbformat": 4,
  "nbformat_minor": 0,
  "metadata": {
    "colab": {
      "provenance": [],
      "authorship_tag": "ABX9TyO/nGRvBwcMOTzIn7tf/DQZ",
      "include_colab_link": true
    },
    "kernelspec": {
      "name": "python3",
      "display_name": "Python 3"
    },
    "language_info": {
      "name": "python"
    }
  },
  "cells": [
    {
      "cell_type": "markdown",
      "metadata": {
        "id": "view-in-github",
        "colab_type": "text"
      },
      "source": [
        "<a href=\"https://colab.research.google.com/github/tisha-uwu/Ayushi_Sahu_DataHack/blob/main/Ayushi_Sahu_DataHack.ipynb\" target=\"_parent\"><img src=\"https://colab.research.google.com/assets/colab-badge.svg\" alt=\"Open In Colab\"/></a>"
      ]
    },
    {
      "cell_type": "code",
      "execution_count": 2,
      "metadata": {
        "colab": {
          "base_uri": "https://localhost:8080/"
        },
        "id": "RJhTfcgFltsN",
        "outputId": "cd1d5378-6320-423b-fd12-762b93965485"
      },
      "outputs": [
        {
          "output_type": "stream",
          "name": "stdout",
          "text": [
            "ROC AUC for xyz_vaccine: 0.864173999277244\n",
            "ROC AUC for seasonal_vaccine: 0.8570519011081396\n",
            "Mean ROC AUC: 0.8606129501926918\n"
          ]
        }
      ],
      "source": [
        "import pandas as pd\n",
        "import numpy as np\n",
        "from sklearn.model_selection import train_test_split\n",
        "from sklearn.preprocessing import StandardScaler, OneHotEncoder\n",
        "from sklearn.compose import ColumnTransformer\n",
        "from sklearn.pipeline import Pipeline\n",
        "from sklearn.impute import SimpleImputer\n",
        "from sklearn.multioutput import MultiOutputClassifier\n",
        "from sklearn.ensemble import RandomForestClassifier\n",
        "from sklearn.metrics import roc_auc_score\n",
        "\n",
        "\n",
        "labels_df = pd.read_csv('/content/training_set_labels.csv')\n",
        "features_df = pd.read_csv('/content/training_set_features.csv')\n",
        "test_features_df = pd.read_csv('/content/test_set_features.csv')\n",
        "submission_df = pd.read_csv('/content/submission_format.csv')\n",
        "\n",
        "\n",
        "merged_train_df = features_df.merge(labels_df, on='respondent_id')\n",
        "\n",
        "\n",
        "X = merged_train_df.drop(columns=['respondent_id', 'xyz_vaccine', 'seasonal_vaccine'])\n",
        "y = merged_train_df[['xyz_vaccine', 'seasonal_vaccine']]\n",
        "\n",
        "\n",
        "cat_features = X.select_dtypes(include=['object']).columns\n",
        "num_features = X.select_dtypes(exclude=['object']).columns\n",
        "\n",
        "\n",
        "num_transformer = Pipeline(steps=[\n",
        "    ('imputer', SimpleImputer(strategy='mean')),\n",
        "    ('scaler', StandardScaler())\n",
        "])\n",
        "\n",
        "\n",
        "cat_transformer = Pipeline(steps=[\n",
        "    ('imputer', SimpleImputer(strategy='most_frequent')),\n",
        "    ('onehot', OneHotEncoder(handle_unknown='ignore'))\n",
        "])\n",
        "\n",
        "\n",
        "data_preprocessor = ColumnTransformer(\n",
        "    transformers=[\n",
        "        ('num', num_transformer, num_features),\n",
        "        ('cat', cat_transformer, cat_features)\n",
        "    ])\n",
        "\n",
        "\n",
        "classifier_model = MultiOutputClassifier(RandomForestClassifier(n_estimators=100, random_state=42))\n",
        "\n",
        "\n",
        "model_pipeline = Pipeline(steps=[('preprocessor', data_preprocessor),\n",
        "                                 ('model', classifier_model)])\n",
        "\n",
        "X_train, X_val, y_train, y_val = train_test_split(X, y, test_size=0.2, random_state=42)\n",
        "\n",
        "\n",
        "model_pipeline.fit(X_train, y_train)\n",
        "\n",
        "\n",
        "y_pred_probabilities = model_pipeline.predict_proba(X_val)\n",
        "\n",
        "\n",
        "roc_auc_xyz_vaccine = roc_auc_score(y_val['xyz_vaccine'], y_pred_probabilities[0][:, 1])\n",
        "roc_auc_seasonal_vaccine = roc_auc_score(y_val['seasonal_vaccine'], y_pred_probabilities[1][:, 1])\n",
        "average_roc_auc = (roc_auc_xyz_vaccine + roc_auc_seasonal_vaccine) / 2\n",
        "\n",
        "print(f'ROC AUC for xyz_vaccine: {roc_auc_xyz_vaccine}')\n",
        "print(f'ROC AUC for seasonal_vaccine: {roc_auc_seasonal_vaccine}')\n",
        "print(f'Mean ROC AUC: {average_roc_auc}')\n",
        "\n",
        "\n",
        "test_features_with_ids = test_features_df.copy()\n",
        "X_test = test_features_df.drop(columns=['respondent_id'])\n",
        "\n",
        "test_predictions = model_pipeline.predict_proba(X_test)\n",
        "submission = pd.DataFrame({\n",
        "    'respondent_id': test_features_with_ids['respondent_id'],\n",
        "    'xyz_vaccine': test_predictions[0][:, 1],\n",
        "    'seasonal_vaccine': test_predictions[1][:, 1]\n",
        "})\n",
        "\n",
        "submission.to_csv('ayushi_submission.csv', index=False)"
      ]
    }
  ]
}